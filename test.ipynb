{
 "cells": [
  {
   "cell_type": "code",
   "execution_count": 5,
   "metadata": {},
   "outputs": [
    {
     "name": "stderr",
     "output_type": "stream",
     "text": [
      "100%|██████████| 100/100 [00:00<?, ?it/s]\n"
     ]
    }
   ],
   "source": [
    "from tqdm import tqdm\n",
    "\n",
    "train_x = range(100)\n",
    "train_y = range(200)\n",
    "\n",
    "train_iter = zip(train_x, train_y)\n",
    "\n",
    "# Notice `train_iter` can only be iter over once, so i get `total` in this way.\n",
    "total = min(len(train_x), len(train_y))\n",
    "\n",
    "with tqdm(total=total) as pbar:\n",
    "    for item in train_iter:\n",
    "        # do something ...\n",
    "        pbar.update(1)"
   ]
  }
 ],
 "metadata": {
  "kernelspec": {
   "display_name": "Python 3.9.13 64-bit",
   "language": "python",
   "name": "python3"
  },
  "language_info": {
   "codemirror_mode": {
    "name": "ipython",
    "version": 3
   },
   "file_extension": ".py",
   "mimetype": "text/x-python",
   "name": "python",
   "nbconvert_exporter": "python",
   "pygments_lexer": "ipython3",
   "version": "3.9.13"
  },
  "orig_nbformat": 4,
  "vscode": {
   "interpreter": {
    "hash": "9a0383a9c80423978f09e2290a7f5944af8c953f671f48eceaa58749599f4d45"
   }
  }
 },
 "nbformat": 4,
 "nbformat_minor": 2
}
